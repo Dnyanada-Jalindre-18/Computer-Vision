{
 "metadata": {
  "language_info": {
   "codemirror_mode": {
    "name": "ipython",
    "version": 3
   },
   "file_extension": ".py",
   "mimetype": "text/x-python",
   "name": "python",
   "nbconvert_exporter": "python",
   "pygments_lexer": "ipython3",
   "version": "3.8.6-final"
  },
  "orig_nbformat": 2,
  "kernelspec": {
   "name": "python3",
   "display_name": "Python 3.8.6 64-bit",
   "metadata": {
    "interpreter": {
     "hash": "f2a351e7cbb351edd101dc2c50d1e37f469cbf694061a1dc0e7531b18d1e5828"
    }
   }
  }
 },
 "nbformat": 4,
 "nbformat_minor": 2,
 "cells": [
  {
   "source": [
    "# Eyes Detection"
   ],
   "cell_type": "markdown",
   "metadata": {}
  },
  {
   "cell_type": "code",
   "execution_count": 9,
   "metadata": {},
   "outputs": [],
   "source": [
    "# importing open cv library\n",
    "import cv2"
   ]
  },
  {
   "cell_type": "code",
   "execution_count": 10,
   "metadata": {},
   "outputs": [],
   "source": [
    "face_cascade = cv2.CascadeClassifier('haarcascade_frontalface_default.xml')\n",
    "eye_cascade = cv2.CascadeClassifier('haarcascade_eye.xml')"
   ]
  },
  {
   "source": [
    "## Face and eyes detection (Passing image as an input)"
   ],
   "cell_type": "markdown",
   "metadata": {}
  },
  {
   "cell_type": "code",
   "execution_count": 29,
   "metadata": {},
   "outputs": [],
   "source": [
    "# Function for displaying image\n",
    "def showImage(img):\n",
    "    cv2.imshow('Image',img)\n",
    "    cv2.waitKey(0)\n",
    "    cv2.destroyAllWindows()"
   ]
  },
  {
   "cell_type": "code",
   "execution_count": 30,
   "metadata": {},
   "outputs": [],
   "source": [
    "image = cv2.imread(\"img.jpg\")\n",
    "image = cv2.resize(image, (430,600))\n",
    "showImage(image)"
   ]
  },
  {
   "cell_type": "code",
   "execution_count": 31,
   "metadata": {},
   "outputs": [],
   "source": [
    "face = face_cascade.detectMultiScale(image, 1.4, 3)\n",
    "for(x, y, w, h) in face:\n",
    "    cv2.rectangle(image, (x, y), (x+w, y+h), (255,0,0), 2)\n",
    "    roi_frame = image[y:y+h, x:x+w]\n",
    "    eye = eye_cascade.detectMultiScale(roi_frame, 1.3, 2)\n",
    "    for (ex, ey, ew, eh) in eye:\n",
    "        cv2.rectangle(roi_frame, (ex,ey), (ex+ew, ey+eh), (0,0,2 55), 1)\n",
    "showImage(image)"
   ]
  },
  {
   "cell_type": "code",
   "execution_count": null,
   "metadata": {},
   "outputs": [],
   "source": [
    "# Function for detecting eyes\n",
    "\n",
    "\"\"\"def detectEye(gray, frame):\n",
    "    face = face_cascade.detectMultiScale(gray, 1.4, 3)\n",
    "    for(x, y, w, h) in face:\n",
    "        cv2.rectangle(frame, (x, y), (x+w, y+h), (255,0,0), 2)\n",
    "        roi_frame = face[y:y+h, x:x+w]\n",
    "        roi_gray = face[y:y+h, x:x+w]\n",
    "        eye = eye_cascade.detectMultiScale(roi_gray, 1.3, 2)\n",
    "        for (ex, ey, ew, eh) in eye:\n",
    "            cv2.rectangle(roi_frame, (ex,ey), (ex+ew, ey+eh), (0,255,0), 2)\"\"\""
   ]
  },
  {
   "source": [
    "## Eyes Detection (real time video capturing)"
   ],
   "cell_type": "markdown",
   "metadata": {}
  },
  {
   "cell_type": "code",
   "execution_count": 47,
   "metadata": {},
   "outputs": [],
   "source": [
    "def detectEyes(gray,frame):\n",
    "    face = face_cascade.detectMultiScale(gray, 1.1, 2)\n",
    "    for(x, y, w, h) in face:\n",
    "        cv2.rectangle(frame, (x, y), (x+w, y+h), (255,0,0), 2)\n",
    "\n",
    "        roi_frame = frame[y:y+h, x:x+w]\n",
    "        roi_gray = gray[y:y+h, x:x+w]\n",
    "\n",
    "        eye = eye_cascade.detectMultiScale(roi_gray, 1.5, 10)\n",
    "\n",
    "        for (ex, ey, ew, eh) in eye:\n",
    "            cv2.rectangle(roi_frame, (ex,ey), (ex+ew, ey+eh), (0,0,255), 2)\n",
    "            \n",
    "    return frame"
   ]
  },
  {
   "cell_type": "code",
   "execution_count": 48,
   "metadata": {},
   "outputs": [],
   "source": [
    "video_capture = cv2.VideoCapture(0)\n",
    "\n",
    "while(True):\n",
    "    _,frame = video_capture.read()\n",
    "    gray = cv2.cvtColor(frame, cv2.COLOR_BGR2GRAY)\n",
    "    detect_eyes = detectEyes(gray,frame)\n",
    "\n",
    "    cv2.imshow(\"video\", detect_eyes)\n",
    "    if cv2.waitKey(1) & 0XFF==ord('q'):\n",
    "        break\n",
    "    \n",
    "video_capture.release()\n",
    "cv2.destroyAllWindows()"
   ]
  },
  {
   "cell_type": "code",
   "execution_count": null,
   "metadata": {},
   "outputs": [],
   "source": []
  }
 ]
}