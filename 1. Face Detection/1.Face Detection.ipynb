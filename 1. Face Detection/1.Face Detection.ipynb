{
 "metadata": {
  "language_info": {
   "codemirror_mode": {
    "name": "ipython",
    "version": 3
   },
   "file_extension": ".py",
   "mimetype": "text/x-python",
   "name": "python",
   "nbconvert_exporter": "python",
   "pygments_lexer": "ipython3",
   "version": "3.9.2-final"
  },
  "orig_nbformat": 2,
  "kernelspec": {
   "name": "python3",
   "display_name": "Python 3",
   "language": "python"
  }
 },
 "nbformat": 4,
 "nbformat_minor": 2,
 "cells": [
  {
   "source": [
    "# Face Detection"
   ],
   "cell_type": "markdown",
   "metadata": {}
  },
  {
   "cell_type": "code",
   "execution_count": 1,
   "metadata": {},
   "outputs": [],
   "source": [
    "# importing open cv library\n",
    "import cv2"
   ]
  },
  {
   "source": [
    "*OpenCV* supports **haar cascade** based object detection.\n",
    "\n",
    "Haar Cascades are machine learning based classifiers that calculate different features like edges, lines etc. in the image.\n",
    "\n",
    "Trained classifiers for different objects like faces,eyes etc are available in the OpenCV Github repo, you can also train your own haar cascade for any object.\n",
    "\n",
    "For Face detection model we are using \"haarcascade_frontalface_default.xml\""
   ],
   "cell_type": "markdown",
   "metadata": {}
  },
  {
   "cell_type": "code",
   "execution_count": 2,
   "metadata": {},
   "outputs": [],
   "source": [
    "face_cascade = cv2.CascadeClassifier('haarcascade_frontalface_default.xml')"
   ]
  },
  {
   "source": [
    "## Face detection (Passing image as an input)"
   ],
   "cell_type": "markdown",
   "metadata": {}
  },
  {
   "cell_type": "code",
   "execution_count": 3,
   "metadata": {},
   "outputs": [],
   "source": [
    "# Function for displaying image\n",
    "def showImage(img):\n",
    "    cv2.imshow('Image',img)\n",
    "    cv2.waitKey(0)\n",
    "    cv2.destroyAllWindows()"
   ]
  },
  {
   "cell_type": "code",
   "execution_count": 4,
   "metadata": {},
   "outputs": [],
   "source": [
    "# Reading an image\n",
    "image = cv2.imread(\"faces.jpg\")\n",
    "#image = cv2.resize(image, (500,650))\n",
    "showImage(image)"
   ]
  },
  {
   "cell_type": "code",
   "execution_count": 5,
   "metadata": {},
   "outputs": [],
   "source": [
    "# Converting color image into gray scale image\n",
    "image_gray = cv2.cvtColor(image, cv2.COLOR_BGR2GRAY)\n",
    "showImage(image_gray)"
   ]
  },
  {
   "source": [
    "# Function for Face Detection\n",
    "def faceDetection(gray_image, color_image):\n",
    "    face = face_cascade.detectMultiScale(gray_image, 1.4, 3)\n",
    "    for(x, y, w, h) in face:\n",
    "        cv2.rectangle(color_image, (x, y), (x+w, y+h), (255,0,0), 2)\n",
    "    showImage(color_image)"
   ],
   "cell_type": "code",
   "metadata": {},
   "execution_count": 6,
   "outputs": []
  },
  {
   "source": [
    "Parameters for *detectMultiScale()* function : image, scaling factor, no. of neighbors."
   ],
   "cell_type": "markdown",
   "metadata": {}
  },
  {
   "cell_type": "code",
   "execution_count": 7,
   "metadata": {},
   "outputs": [],
   "source": [
    "# calling faceDetectionmethod\n",
    "faceDetection(image_gray, image)"
   ]
  },
  {
   "cell_type": "code",
   "execution_count": 8,
   "metadata": {},
   "outputs": [],
   "source": [
    "# Alternate method\n",
    "face = face_cascade.detectMultiScale(image_gray, 1.4, 3)\n",
    "for(x, y, w, h) in face:\n",
    "    cv2.rectangle(image_gray, (x, y), (x+w, y+h), (255,0,0), 2)\n",
    "showImage(image_gray)"
   ]
  },
  {
   "source": [
    "## Face Detection (real time video capturing)"
   ],
   "cell_type": "markdown",
   "metadata": {}
  },
  {
   "cell_type": "code",
   "execution_count": 9,
   "metadata": {},
   "outputs": [],
   "source": [
    "# Function for Face Detection\n",
    "def faceDetection(gray_image, color_image):\n",
    "    face = face_cascade.detectMultiScale(gray_image, 1.3, 2)\n",
    "    for(x, y, w, h) in face:\n",
    "        cv2.rectangle(color_image, (x, y), (x+w, y+h), (255,0,0), 2)\n",
    "    return color_image"
   ]
  },
  {
   "cell_type": "code",
   "execution_count": 10,
   "metadata": {},
   "outputs": [],
   "source": [
    "video_capture = cv2.VideoCapture(0)\n",
    "while (True):\n",
    "    _, frame = video_capture.read()\n",
    "    #cv2.imshow(\"Video\", frame)\n",
    "    img_gray = cv2.cvtColor(frame, cv2.COLOR_BGR2GRAY)\n",
    "    image = faceDetection(img_gray, frame)\n",
    "    cv2.imshow(\"Video\", image)\n",
    "    if cv2.waitKey(1) & 0XFF==ord('q'):\n",
    "        break\n",
    "video_capture.release()\n",
    "cv2.destroyAllWindows()"
   ]
  },
  {
   "cell_type": "code",
   "execution_count": null,
   "metadata": {},
   "outputs": [],
   "source": []
  }
 ]
}